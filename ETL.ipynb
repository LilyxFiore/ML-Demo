{
 "cells": [
  {
   "cell_type": "code",
   "execution_count": 170,
   "metadata": {
    "ExecuteTime": {
     "end_time": "2023-11-18T17:21:37.266820100Z",
     "start_time": "2023-11-18T17:21:37.092056900Z"
    }
   },
   "outputs": [],
   "source": [
    "import pandas as pd\n",
    "import datetime as dt"
   ]
  },
  {
   "cell_type": "markdown",
   "source": [
    "##Extracción de datos"
   ],
   "metadata": {
    "collapsed": false
   }
  },
  {
   "cell_type": "code",
   "execution_count": 171,
   "metadata": {
    "ExecuteTime": {
     "end_time": "2023-11-18T17:21:37.780109500Z",
     "start_time": "2023-11-18T17:21:37.103082100Z"
    }
   },
   "outputs": [],
   "source": [
    "df1=pd.read_csv(\"Datasets/datasetin/Customer dataset on Ecommerce.csv\",encoding='mbcs',dtype={\"customer_id\": str})\n",
    "df2=pd.read_csv(\"Datasets/datasetin/E-commerce company_s online sales.csv\",encoding='mbcs',dtype={\"customer_id\": str})\n",
    "df3=pd.read_csv(\"Datasets/datasetin/Forecast of potential customers in 2022-2025.csv\",encoding='mbcs')\n",
    "df4=pd.read_csv(\"Datasets/datasetin/Order delivery in the US.csv\",encoding='mbcs')\n",
    "df5=pd.read_csv(\"Datasets/datasetin/Order Details on Ecommerce in US.csv\",encoding='mbcs')\n",
    "df6=pd.read_csv(\"Datasets/datasetin/Order information of sellers in the US.csv\",encoding='mbcs')\n",
    "df7=pd.read_csv(\"Datasets/datasetin/Order on Ecommerce in US.csv\",encoding='mbcs',dtype={\"customer_id\": str})\n",
    "df8=pd.read_csv(\"Datasets/datasetin/Product details on Ecommerce.csv\",encoding='mbcs')"
   ]
  },
  {
   "cell_type": "markdown",
   "source": [
    "##Informacion de los datasets"
   ],
   "metadata": {
    "collapsed": false
   }
  },
  {
   "cell_type": "code",
   "execution_count": 172,
   "metadata": {
    "ExecuteTime": {
     "end_time": "2023-11-18T17:21:37.781162800Z",
     "start_time": "2023-11-18T17:21:37.546584400Z"
    }
   },
   "outputs": [
    {
     "name": "stdout",
     "output_type": "stream",
     "text": [
      "<class 'pandas.core.frame.DataFrame'>\n",
      "RangeIndex: 10000 entries, 0 to 9999\n",
      "Data columns (total 16 columns):\n",
      " #   Column          Non-Null Count  Dtype  \n",
      "---  ------          --------------  -----  \n",
      " 0   customer_id     10000 non-null  object \n",
      " 1   first_name      10000 non-null  object \n",
      " 2   last_name       10000 non-null  object \n",
      " 3   gender          10000 non-null  object \n",
      " 4   age             10000 non-null  int64  \n",
      " 5   date_of_birth   10000 non-null  int64  \n",
      " 6   month_of_birth  10000 non-null  int64  \n",
      " 7   year_of_birth   10000 non-null  int64  \n",
      " 8   email           9973 non-null   object \n",
      " 9   phone           9968 non-null   object \n",
      " 10  address         10000 non-null  object \n",
      " 11  city            10000 non-null  object \n",
      " 12  state           10000 non-null  object \n",
      " 13  ZIP             10000 non-null  int64  \n",
      " 14  latitude        10000 non-null  float64\n",
      " 15  longitude       10000 non-null  float64\n",
      "dtypes: float64(2), int64(5), object(9)\n",
      "memory usage: 1.2+ MB\n"
     ]
    }
   ],
   "source": [
    "df1.info()"
   ]
  },
  {
   "cell_type": "code",
   "execution_count": 173,
   "metadata": {
    "ExecuteTime": {
     "end_time": "2023-11-18T17:21:37.781162800Z",
     "start_time": "2023-11-18T17:21:37.558987900Z"
    }
   },
   "outputs": [
    {
     "name": "stdout",
     "output_type": "stream",
     "text": [
      "<class 'pandas.core.frame.DataFrame'>\n",
      "RangeIndex: 10000 entries, 0 to 9999\n",
      "Data columns (total 20 columns):\n",
      " #   Column                        Non-Null Count  Dtype  \n",
      "---  ------                        --------------  -----  \n",
      " 0   product_id                    10000 non-null  object \n",
      " 1   store_id                      10000 non-null  object \n",
      " 2   product_url                   10000 non-null  object \n",
      " 3   product_name                  10000 non-null  object \n",
      " 4   online_retail_seller          10000 non-null  object \n",
      " 5   pid                           10000 non-null  object \n",
      " 6   category                      9179 non-null   object \n",
      " 7   cost_of_product               10000 non-null  int64  \n",
      " 8   discount_offered              10000 non-null  int64  \n",
      " 9   cost_after_discount           10000 non-null  int64  \n",
      " 10  quantity                      10000 non-null  int64  \n",
      " 11  weight_in_gams                10000 non-null  int64  \n",
      " 12  image                         9997 non-null   object \n",
      " 13  number_of_reviews             9982 non-null   float64\n",
      " 14  number_of_answered_questions  9235 non-null   float64\n",
      " 15  average_review_rating         9982 non-null   float64\n",
      " 16  is_advantage_product          10000 non-null  bool   \n",
      " 17  description                   9999 non-null   object \n",
      " 18  brand                         7269 non-null   object \n",
      " 19  product_specifications        9994 non-null   object \n",
      "dtypes: bool(1), float64(3), int64(5), object(11)\n",
      "memory usage: 1.5+ MB\n"
     ]
    }
   ],
   "source": [
    "df8.info()"
   ]
  },
  {
   "cell_type": "code",
   "execution_count": 174,
   "metadata": {
    "ExecuteTime": {
     "end_time": "2023-11-18T17:21:37.781162800Z",
     "start_time": "2023-11-18T17:21:37.577891700Z"
    }
   },
   "outputs": [
    {
     "data": {
      "text/plain": "    product_id     store_id  \\\n0  6657ea517e5  9ec2a041202   \n1  dea641aaa2f  b383efe2d36   \n2  e291975717f  8acab88f23d   \n3  73e239eb23d  5275ba1c2b4   \n4  cff195d0b71  94004ba5c87   \n\n                                         product_url  \\\n0  http://www.flipkart.com/alisha-solid-women-s-c...   \n1  http://www.flipkart.com/fabhomedecor-fabric-do...   \n2  http://www.flipkart.com/aw-bellies/p/itmeh4grg...   \n3  http://www.flipkart.com/alisha-solid-women-s-c...   \n4  http://www.flipkart.com/sicons-all-purpose-arn...   \n\n                            product_name online_retail_seller  \\\n0    Alisha Solid Women's Cycling Shorts               Amazon   \n1    FabHomeDecor Fabric Double Sofa Bed                Betsy   \n2                             AW Bellies                Betsy   \n3    Alisha Solid Women's Cycling Shorts               Amazon   \n4  Sicons All Purpose Arnica Dog Shampoo               Amazon   \n\n                pid                                           category  \\\n0  SRTEH2FF9KEDEFGF  Sports & Outdoors | Outdoor Recreation | Skate...   \n1  SBEEH3QGU7MFYJFY  Toys & Games | Learning & Education | Science ...   \n2  SHOEH4GRSUBJGZXE          Toys & Games | Arts & Crafts | Craft Kits   \n3  SRTEH2F6HUZMQ6SJ  Toys & Games | Hobbies | Models & Model Kits |...   \n4  PSOEH3ZYDMSYARJ5            Toys & Games | Puzzles | Jigsaw Puzzles   \n\n   cost_of_product  discount_offered  cost_after_discount  quantity  \\\n0              177                44                  221       347   \n1              216                59                  275       348   \n2              183                48                  231       443   \n3              176                10                  186       305   \n4              184                46                  230       191   \n\n   weight_in_gams                                              image  \\\n0            1233  [\"http://img5a.flixcart.com/image/short/u/4/a/...   \n1            3088  [\"http://img6a.flixcart.com/image/sofa-bed/j/f...   \n2            3374  [\"http://img5a.flixcart.com/image/shoe/7/z/z/r...   \n3            1177  [\"http://img5a.flixcart.com/image/short/6/2/h/...   \n4            2484  [\"http://img5a.flixcart.com/image/pet-shampoo/...   \n\n   number_of_reviews  number_of_answered_questions  average_review_rating  \\\n0               15.0                           1.0                    4.9   \n1                2.0                           1.0                    4.5   \n2               17.0                           2.0                    3.9   \n3                1.0                           2.0                    5.0   \n4                3.0                           2.0                    4.7   \n\n   is_advantage_product                                        description  \\\n0                 False  Key Features of Alisha Solid Women's Cycling S...   \n1                 False  FabHomeDecor Fabric Double Sofa Bed (Finish Co...   \n2                 False  Key Features of AW Bellies Sandals Wedges Heel...   \n3                 False  Key Features of Alisha Solid Women's Cycling S...   \n4                 False  Specifications of Sicons All Purpose Arnica Do...   \n\n          brand                             product_specifications  \n0        Alisha  {\"product_specification\"=>[{\"key\"=>\"Number of ...  \n1  FabHomeDecor  {\"product_specification\"=>[{\"key\"=>\"Installati...  \n2            AW  {\"product_specification\"=>[{\"key\"=>\"Ideal For\"...  \n3        Alisha  {\"product_specification\"=>[{\"key\"=>\"Number of ...  \n4        Sicons  {\"product_specification\"=>[{\"key\"=>\"Pet Type\",...  ",
      "text/html": "<div>\n<style scoped>\n    .dataframe tbody tr th:only-of-type {\n        vertical-align: middle;\n    }\n\n    .dataframe tbody tr th {\n        vertical-align: top;\n    }\n\n    .dataframe thead th {\n        text-align: right;\n    }\n</style>\n<table border=\"1\" class=\"dataframe\">\n  <thead>\n    <tr style=\"text-align: right;\">\n      <th></th>\n      <th>product_id</th>\n      <th>store_id</th>\n      <th>product_url</th>\n      <th>product_name</th>\n      <th>online_retail_seller</th>\n      <th>pid</th>\n      <th>category</th>\n      <th>cost_of_product</th>\n      <th>discount_offered</th>\n      <th>cost_after_discount</th>\n      <th>quantity</th>\n      <th>weight_in_gams</th>\n      <th>image</th>\n      <th>number_of_reviews</th>\n      <th>number_of_answered_questions</th>\n      <th>average_review_rating</th>\n      <th>is_advantage_product</th>\n      <th>description</th>\n      <th>brand</th>\n      <th>product_specifications</th>\n    </tr>\n  </thead>\n  <tbody>\n    <tr>\n      <th>0</th>\n      <td>6657ea517e5</td>\n      <td>9ec2a041202</td>\n      <td>http://www.flipkart.com/alisha-solid-women-s-c...</td>\n      <td>Alisha Solid Women's Cycling Shorts</td>\n      <td>Amazon</td>\n      <td>SRTEH2FF9KEDEFGF</td>\n      <td>Sports &amp; Outdoors | Outdoor Recreation | Skate...</td>\n      <td>177</td>\n      <td>44</td>\n      <td>221</td>\n      <td>347</td>\n      <td>1233</td>\n      <td>[\"http://img5a.flixcart.com/image/short/u/4/a/...</td>\n      <td>15.0</td>\n      <td>1.0</td>\n      <td>4.9</td>\n      <td>False</td>\n      <td>Key Features of Alisha Solid Women's Cycling S...</td>\n      <td>Alisha</td>\n      <td>{\"product_specification\"=&gt;[{\"key\"=&gt;\"Number of ...</td>\n    </tr>\n    <tr>\n      <th>1</th>\n      <td>dea641aaa2f</td>\n      <td>b383efe2d36</td>\n      <td>http://www.flipkart.com/fabhomedecor-fabric-do...</td>\n      <td>FabHomeDecor Fabric Double Sofa Bed</td>\n      <td>Betsy</td>\n      <td>SBEEH3QGU7MFYJFY</td>\n      <td>Toys &amp; Games | Learning &amp; Education | Science ...</td>\n      <td>216</td>\n      <td>59</td>\n      <td>275</td>\n      <td>348</td>\n      <td>3088</td>\n      <td>[\"http://img6a.flixcart.com/image/sofa-bed/j/f...</td>\n      <td>2.0</td>\n      <td>1.0</td>\n      <td>4.5</td>\n      <td>False</td>\n      <td>FabHomeDecor Fabric Double Sofa Bed (Finish Co...</td>\n      <td>FabHomeDecor</td>\n      <td>{\"product_specification\"=&gt;[{\"key\"=&gt;\"Installati...</td>\n    </tr>\n    <tr>\n      <th>2</th>\n      <td>e291975717f</td>\n      <td>8acab88f23d</td>\n      <td>http://www.flipkart.com/aw-bellies/p/itmeh4grg...</td>\n      <td>AW Bellies</td>\n      <td>Betsy</td>\n      <td>SHOEH4GRSUBJGZXE</td>\n      <td>Toys &amp; Games | Arts &amp; Crafts | Craft Kits</td>\n      <td>183</td>\n      <td>48</td>\n      <td>231</td>\n      <td>443</td>\n      <td>3374</td>\n      <td>[\"http://img5a.flixcart.com/image/shoe/7/z/z/r...</td>\n      <td>17.0</td>\n      <td>2.0</td>\n      <td>3.9</td>\n      <td>False</td>\n      <td>Key Features of AW Bellies Sandals Wedges Heel...</td>\n      <td>AW</td>\n      <td>{\"product_specification\"=&gt;[{\"key\"=&gt;\"Ideal For\"...</td>\n    </tr>\n    <tr>\n      <th>3</th>\n      <td>73e239eb23d</td>\n      <td>5275ba1c2b4</td>\n      <td>http://www.flipkart.com/alisha-solid-women-s-c...</td>\n      <td>Alisha Solid Women's Cycling Shorts</td>\n      <td>Amazon</td>\n      <td>SRTEH2F6HUZMQ6SJ</td>\n      <td>Toys &amp; Games | Hobbies | Models &amp; Model Kits |...</td>\n      <td>176</td>\n      <td>10</td>\n      <td>186</td>\n      <td>305</td>\n      <td>1177</td>\n      <td>[\"http://img5a.flixcart.com/image/short/6/2/h/...</td>\n      <td>1.0</td>\n      <td>2.0</td>\n      <td>5.0</td>\n      <td>False</td>\n      <td>Key Features of Alisha Solid Women's Cycling S...</td>\n      <td>Alisha</td>\n      <td>{\"product_specification\"=&gt;[{\"key\"=&gt;\"Number of ...</td>\n    </tr>\n    <tr>\n      <th>4</th>\n      <td>cff195d0b71</td>\n      <td>94004ba5c87</td>\n      <td>http://www.flipkart.com/sicons-all-purpose-arn...</td>\n      <td>Sicons All Purpose Arnica Dog Shampoo</td>\n      <td>Amazon</td>\n      <td>PSOEH3ZYDMSYARJ5</td>\n      <td>Toys &amp; Games | Puzzles | Jigsaw Puzzles</td>\n      <td>184</td>\n      <td>46</td>\n      <td>230</td>\n      <td>191</td>\n      <td>2484</td>\n      <td>[\"http://img5a.flixcart.com/image/pet-shampoo/...</td>\n      <td>3.0</td>\n      <td>2.0</td>\n      <td>4.7</td>\n      <td>False</td>\n      <td>Specifications of Sicons All Purpose Arnica Do...</td>\n      <td>Sicons</td>\n      <td>{\"product_specification\"=&gt;[{\"key\"=&gt;\"Pet Type\",...</td>\n    </tr>\n  </tbody>\n</table>\n</div>"
     },
     "execution_count": 174,
     "metadata": {},
     "output_type": "execute_result"
    }
   ],
   "source": [
    "df8.head()"
   ]
  },
  {
   "cell_type": "code",
   "execution_count": 175,
   "metadata": {
    "ExecuteTime": {
     "end_time": "2023-11-18T17:21:37.789432Z",
     "start_time": "2023-11-18T17:21:37.593755900Z"
    }
   },
   "outputs": [],
   "source": [
    "df1=df1.iloc[:,0:5]"
   ]
  },
  {
   "cell_type": "code",
   "execution_count": 176,
   "metadata": {
    "ExecuteTime": {
     "end_time": "2023-11-18T17:21:37.789432Z",
     "start_time": "2023-11-18T17:21:37.604446800Z"
    }
   },
   "outputs": [
    {
     "data": {
      "text/plain": "   customer_id first_name last_name  gender  age\n0  72c00ba8bc7      James      Butt  Female   33\n1  b18a428ac77  Josephine   Darakjy    Male   34\n2  2fdd0374a03        Art    Venere    Male   60\n3  dc6358b12c3      Lenna  Paprocki  Female   50\n4  c12e35b23ad    Donette    Foller  Female   47",
      "text/html": "<div>\n<style scoped>\n    .dataframe tbody tr th:only-of-type {\n        vertical-align: middle;\n    }\n\n    .dataframe tbody tr th {\n        vertical-align: top;\n    }\n\n    .dataframe thead th {\n        text-align: right;\n    }\n</style>\n<table border=\"1\" class=\"dataframe\">\n  <thead>\n    <tr style=\"text-align: right;\">\n      <th></th>\n      <th>customer_id</th>\n      <th>first_name</th>\n      <th>last_name</th>\n      <th>gender</th>\n      <th>age</th>\n    </tr>\n  </thead>\n  <tbody>\n    <tr>\n      <th>0</th>\n      <td>72c00ba8bc7</td>\n      <td>James</td>\n      <td>Butt</td>\n      <td>Female</td>\n      <td>33</td>\n    </tr>\n    <tr>\n      <th>1</th>\n      <td>b18a428ac77</td>\n      <td>Josephine</td>\n      <td>Darakjy</td>\n      <td>Male</td>\n      <td>34</td>\n    </tr>\n    <tr>\n      <th>2</th>\n      <td>2fdd0374a03</td>\n      <td>Art</td>\n      <td>Venere</td>\n      <td>Male</td>\n      <td>60</td>\n    </tr>\n    <tr>\n      <th>3</th>\n      <td>dc6358b12c3</td>\n      <td>Lenna</td>\n      <td>Paprocki</td>\n      <td>Female</td>\n      <td>50</td>\n    </tr>\n    <tr>\n      <th>4</th>\n      <td>c12e35b23ad</td>\n      <td>Donette</td>\n      <td>Foller</td>\n      <td>Female</td>\n      <td>47</td>\n    </tr>\n  </tbody>\n</table>\n</div>"
     },
     "execution_count": 176,
     "metadata": {},
     "output_type": "execute_result"
    }
   ],
   "source": [
    "df1.head()"
   ]
  },
  {
   "cell_type": "code",
   "execution_count": 177,
   "metadata": {
    "ExecuteTime": {
     "end_time": "2023-11-18T17:21:37.789432Z",
     "start_time": "2023-11-18T17:21:37.621924100Z"
    }
   },
   "outputs": [
    {
     "data": {
      "text/plain": "      customer_id first_name  last_name  gender  age\n0     72c00ba8bc7      James       Butt  Female   33\n1     b18a428ac77  Josephine    Darakjy    Male   34\n2     2fdd0374a03        Art     Venere    Male   60\n3     dc6358b12c3      Lenna   Paprocki  Female   50\n4     c12e35b23ad    Donette     Foller  Female   47\n...           ...        ...        ...     ...  ...\n9995  148d6e240b7       Tina    Sherman    Male   39\n9996  e4880a8405f       Earl   Jennings  Female   38\n9997  037e5833c89      Ellen  Dominguez  Female   43\n9998  ef4ad93d2e0       Emma      Clark    Male   54\n9999  42c56b99069    Katrina   Schwartz  Female   40\n\n[10000 rows x 5 columns]",
      "text/html": "<div>\n<style scoped>\n    .dataframe tbody tr th:only-of-type {\n        vertical-align: middle;\n    }\n\n    .dataframe tbody tr th {\n        vertical-align: top;\n    }\n\n    .dataframe thead th {\n        text-align: right;\n    }\n</style>\n<table border=\"1\" class=\"dataframe\">\n  <thead>\n    <tr style=\"text-align: right;\">\n      <th></th>\n      <th>customer_id</th>\n      <th>first_name</th>\n      <th>last_name</th>\n      <th>gender</th>\n      <th>age</th>\n    </tr>\n  </thead>\n  <tbody>\n    <tr>\n      <th>0</th>\n      <td>72c00ba8bc7</td>\n      <td>James</td>\n      <td>Butt</td>\n      <td>Female</td>\n      <td>33</td>\n    </tr>\n    <tr>\n      <th>1</th>\n      <td>b18a428ac77</td>\n      <td>Josephine</td>\n      <td>Darakjy</td>\n      <td>Male</td>\n      <td>34</td>\n    </tr>\n    <tr>\n      <th>2</th>\n      <td>2fdd0374a03</td>\n      <td>Art</td>\n      <td>Venere</td>\n      <td>Male</td>\n      <td>60</td>\n    </tr>\n    <tr>\n      <th>3</th>\n      <td>dc6358b12c3</td>\n      <td>Lenna</td>\n      <td>Paprocki</td>\n      <td>Female</td>\n      <td>50</td>\n    </tr>\n    <tr>\n      <th>4</th>\n      <td>c12e35b23ad</td>\n      <td>Donette</td>\n      <td>Foller</td>\n      <td>Female</td>\n      <td>47</td>\n    </tr>\n    <tr>\n      <th>...</th>\n      <td>...</td>\n      <td>...</td>\n      <td>...</td>\n      <td>...</td>\n      <td>...</td>\n    </tr>\n    <tr>\n      <th>9995</th>\n      <td>148d6e240b7</td>\n      <td>Tina</td>\n      <td>Sherman</td>\n      <td>Male</td>\n      <td>39</td>\n    </tr>\n    <tr>\n      <th>9996</th>\n      <td>e4880a8405f</td>\n      <td>Earl</td>\n      <td>Jennings</td>\n      <td>Female</td>\n      <td>38</td>\n    </tr>\n    <tr>\n      <th>9997</th>\n      <td>037e5833c89</td>\n      <td>Ellen</td>\n      <td>Dominguez</td>\n      <td>Female</td>\n      <td>43</td>\n    </tr>\n    <tr>\n      <th>9998</th>\n      <td>ef4ad93d2e0</td>\n      <td>Emma</td>\n      <td>Clark</td>\n      <td>Male</td>\n      <td>54</td>\n    </tr>\n    <tr>\n      <th>9999</th>\n      <td>42c56b99069</td>\n      <td>Katrina</td>\n      <td>Schwartz</td>\n      <td>Female</td>\n      <td>40</td>\n    </tr>\n  </tbody>\n</table>\n<p>10000 rows × 5 columns</p>\n</div>"
     },
     "execution_count": 177,
     "metadata": {},
     "output_type": "execute_result"
    }
   ],
   "source": [
    "df1.iloc[:,]"
   ]
  },
  {
   "cell_type": "code",
   "execution_count": 178,
   "metadata": {
    "ExecuteTime": {
     "end_time": "2023-11-18T17:21:37.790433600Z",
     "start_time": "2023-11-18T17:21:37.635222500Z"
    }
   },
   "outputs": [
    {
     "data": {
      "text/plain": "      order_id  customer_id  payment_order_id  quatity online_retail_seller  \\\n0  d792cb16214  72c00ba8bc7        68405119.0      1.0               Amazon   \n1  0d7a144bdd3  b18a428ac77        68405123.0      1.0                Betsy   \n2  57da4fc703e  2fdd0374a03        68405206.0      1.0                Betsy   \n3  1b038114c75  dc6358b12c3        68405465.0      1.0               Amazon   \n4  bb4e55b4fd9  c12e35b23ad        68406064.0      1.0               Amazon   \n\n   order_created_hour  order_created_minute  order_created_day  \\\n0                 0.0                   1.0                1.0   \n1                 0.0                   4.0                1.0   \n2                 0.0                  13.0                1.0   \n3                 0.0                  19.0                1.0   \n4                 0.0                  26.0                1.0   \n\n   order_created_month  order_created_year  payment_amount  \n0                  1.0              2020.0           145.0  \n1                  1.0              2020.0           251.0  \n2                  1.0              2020.0           214.0  \n3                  1.0              2020.0           259.0  \n4                  1.0              2020.0           152.0  ",
      "text/html": "<div>\n<style scoped>\n    .dataframe tbody tr th:only-of-type {\n        vertical-align: middle;\n    }\n\n    .dataframe tbody tr th {\n        vertical-align: top;\n    }\n\n    .dataframe thead th {\n        text-align: right;\n    }\n</style>\n<table border=\"1\" class=\"dataframe\">\n  <thead>\n    <tr style=\"text-align: right;\">\n      <th></th>\n      <th>order_id</th>\n      <th>customer_id</th>\n      <th>payment_order_id</th>\n      <th>quatity</th>\n      <th>online_retail_seller</th>\n      <th>order_created_hour</th>\n      <th>order_created_minute</th>\n      <th>order_created_day</th>\n      <th>order_created_month</th>\n      <th>order_created_year</th>\n      <th>payment_amount</th>\n    </tr>\n  </thead>\n  <tbody>\n    <tr>\n      <th>0</th>\n      <td>d792cb16214</td>\n      <td>72c00ba8bc7</td>\n      <td>68405119.0</td>\n      <td>1.0</td>\n      <td>Amazon</td>\n      <td>0.0</td>\n      <td>1.0</td>\n      <td>1.0</td>\n      <td>1.0</td>\n      <td>2020.0</td>\n      <td>145.0</td>\n    </tr>\n    <tr>\n      <th>1</th>\n      <td>0d7a144bdd3</td>\n      <td>b18a428ac77</td>\n      <td>68405123.0</td>\n      <td>1.0</td>\n      <td>Betsy</td>\n      <td>0.0</td>\n      <td>4.0</td>\n      <td>1.0</td>\n      <td>1.0</td>\n      <td>2020.0</td>\n      <td>251.0</td>\n    </tr>\n    <tr>\n      <th>2</th>\n      <td>57da4fc703e</td>\n      <td>2fdd0374a03</td>\n      <td>68405206.0</td>\n      <td>1.0</td>\n      <td>Betsy</td>\n      <td>0.0</td>\n      <td>13.0</td>\n      <td>1.0</td>\n      <td>1.0</td>\n      <td>2020.0</td>\n      <td>214.0</td>\n    </tr>\n    <tr>\n      <th>3</th>\n      <td>1b038114c75</td>\n      <td>dc6358b12c3</td>\n      <td>68405465.0</td>\n      <td>1.0</td>\n      <td>Amazon</td>\n      <td>0.0</td>\n      <td>19.0</td>\n      <td>1.0</td>\n      <td>1.0</td>\n      <td>2020.0</td>\n      <td>259.0</td>\n    </tr>\n    <tr>\n      <th>4</th>\n      <td>bb4e55b4fd9</td>\n      <td>c12e35b23ad</td>\n      <td>68406064.0</td>\n      <td>1.0</td>\n      <td>Amazon</td>\n      <td>0.0</td>\n      <td>26.0</td>\n      <td>1.0</td>\n      <td>1.0</td>\n      <td>2020.0</td>\n      <td>152.0</td>\n    </tr>\n  </tbody>\n</table>\n</div>"
     },
     "execution_count": 178,
     "metadata": {},
     "output_type": "execute_result"
    }
   ],
   "source": [
    "df2.head()"
   ]
  },
  {
   "cell_type": "code",
   "execution_count": 179,
   "metadata": {
    "ExecuteTime": {
     "end_time": "2023-11-18T17:21:37.790939200Z",
     "start_time": "2023-11-18T17:21:37.662667Z"
    }
   },
   "outputs": [],
   "source": [
    "df2.dropna(inplace=True)"
   ]
  },
  {
   "cell_type": "code",
   "execution_count": 180,
   "metadata": {
    "ExecuteTime": {
     "end_time": "2023-11-18T17:21:37.790939200Z",
     "start_time": "2023-11-18T17:21:37.683119700Z"
    }
   },
   "outputs": [],
   "source": [
    "df2.drop(columns=[\"order_created_hour\",\"order_created_minute\",\"order_created_day\",\"order_created_month\",\"order_created_year\"],inplace=True)"
   ]
  },
  {
   "cell_type": "code",
   "execution_count": 181,
   "metadata": {
    "ExecuteTime": {
     "end_time": "2023-11-18T17:21:37.790939200Z",
     "start_time": "2023-11-18T17:21:37.689007400Z"
    }
   },
   "outputs": [
    {
     "data": {
      "text/plain": "      order_id  customer_id  payment_order_id  quatity online_retail_seller  \\\n0  d792cb16214  72c00ba8bc7        68405119.0      1.0               Amazon   \n1  0d7a144bdd3  b18a428ac77        68405123.0      1.0                Betsy   \n2  57da4fc703e  2fdd0374a03        68405206.0      1.0                Betsy   \n3  1b038114c75  dc6358b12c3        68405465.0      1.0               Amazon   \n4  bb4e55b4fd9  c12e35b23ad        68406064.0      1.0               Amazon   \n\n   payment_amount  \n0           145.0  \n1           251.0  \n2           214.0  \n3           259.0  \n4           152.0  ",
      "text/html": "<div>\n<style scoped>\n    .dataframe tbody tr th:only-of-type {\n        vertical-align: middle;\n    }\n\n    .dataframe tbody tr th {\n        vertical-align: top;\n    }\n\n    .dataframe thead th {\n        text-align: right;\n    }\n</style>\n<table border=\"1\" class=\"dataframe\">\n  <thead>\n    <tr style=\"text-align: right;\">\n      <th></th>\n      <th>order_id</th>\n      <th>customer_id</th>\n      <th>payment_order_id</th>\n      <th>quatity</th>\n      <th>online_retail_seller</th>\n      <th>payment_amount</th>\n    </tr>\n  </thead>\n  <tbody>\n    <tr>\n      <th>0</th>\n      <td>d792cb16214</td>\n      <td>72c00ba8bc7</td>\n      <td>68405119.0</td>\n      <td>1.0</td>\n      <td>Amazon</td>\n      <td>145.0</td>\n    </tr>\n    <tr>\n      <th>1</th>\n      <td>0d7a144bdd3</td>\n      <td>b18a428ac77</td>\n      <td>68405123.0</td>\n      <td>1.0</td>\n      <td>Betsy</td>\n      <td>251.0</td>\n    </tr>\n    <tr>\n      <th>2</th>\n      <td>57da4fc703e</td>\n      <td>2fdd0374a03</td>\n      <td>68405206.0</td>\n      <td>1.0</td>\n      <td>Betsy</td>\n      <td>214.0</td>\n    </tr>\n    <tr>\n      <th>3</th>\n      <td>1b038114c75</td>\n      <td>dc6358b12c3</td>\n      <td>68405465.0</td>\n      <td>1.0</td>\n      <td>Amazon</td>\n      <td>259.0</td>\n    </tr>\n    <tr>\n      <th>4</th>\n      <td>bb4e55b4fd9</td>\n      <td>c12e35b23ad</td>\n      <td>68406064.0</td>\n      <td>1.0</td>\n      <td>Amazon</td>\n      <td>152.0</td>\n    </tr>\n  </tbody>\n</table>\n</div>"
     },
     "execution_count": 181,
     "metadata": {},
     "output_type": "execute_result"
    }
   ],
   "source": [
    "df2.head()"
   ]
  },
  {
   "cell_type": "code",
   "execution_count": 182,
   "metadata": {
    "ExecuteTime": {
     "end_time": "2023-11-18T17:21:37.790939200Z",
     "start_time": "2023-11-18T17:21:37.707145Z"
    }
   },
   "outputs": [
    {
     "name": "stdout",
     "output_type": "stream",
     "text": [
      "<class 'pandas.core.frame.DataFrame'>\n",
      "Index: 10000 entries, 0 to 9999\n",
      "Data columns (total 6 columns):\n",
      " #   Column                Non-Null Count  Dtype  \n",
      "---  ------                --------------  -----  \n",
      " 0   order_id              10000 non-null  object \n",
      " 1   customer_id           10000 non-null  object \n",
      " 2   payment_order_id      10000 non-null  float64\n",
      " 3   quatity               10000 non-null  float64\n",
      " 4   online_retail_seller  10000 non-null  object \n",
      " 5   payment_amount        10000 non-null  float64\n",
      "dtypes: float64(3), object(3)\n",
      "memory usage: 546.9+ KB\n"
     ]
    }
   ],
   "source": [
    "df2.info()"
   ]
  },
  {
   "cell_type": "code",
   "execution_count": 183,
   "metadata": {
    "ExecuteTime": {
     "end_time": "2023-11-18T17:21:37.790939200Z",
     "start_time": "2023-11-18T17:21:37.718329500Z"
    }
   },
   "outputs": [],
   "source": [
    "# df3 y df4 no necesarios"
   ]
  },
  {
   "cell_type": "code",
   "execution_count": 184,
   "metadata": {
    "ExecuteTime": {
     "end_time": "2023-11-18T17:21:37.792330400Z",
     "start_time": "2023-11-18T17:21:37.728506600Z"
    }
   },
   "outputs": [
    {
     "data": {
      "text/plain": "      order_id   product_id  quantity\n0  d792cb16214  6657ea517e5         1\n1  0d7a144bdd3  dea641aaa2f         1\n2  57da4fc703e  e291975717f         1\n3  1b038114c75  73e239eb23d         1\n4  bb4e55b4fd9  cff195d0b71         1",
      "text/html": "<div>\n<style scoped>\n    .dataframe tbody tr th:only-of-type {\n        vertical-align: middle;\n    }\n\n    .dataframe tbody tr th {\n        vertical-align: top;\n    }\n\n    .dataframe thead th {\n        text-align: right;\n    }\n</style>\n<table border=\"1\" class=\"dataframe\">\n  <thead>\n    <tr style=\"text-align: right;\">\n      <th></th>\n      <th>order_id</th>\n      <th>product_id</th>\n      <th>quantity</th>\n    </tr>\n  </thead>\n  <tbody>\n    <tr>\n      <th>0</th>\n      <td>d792cb16214</td>\n      <td>6657ea517e5</td>\n      <td>1</td>\n    </tr>\n    <tr>\n      <th>1</th>\n      <td>0d7a144bdd3</td>\n      <td>dea641aaa2f</td>\n      <td>1</td>\n    </tr>\n    <tr>\n      <th>2</th>\n      <td>57da4fc703e</td>\n      <td>e291975717f</td>\n      <td>1</td>\n    </tr>\n    <tr>\n      <th>3</th>\n      <td>1b038114c75</td>\n      <td>73e239eb23d</td>\n      <td>1</td>\n    </tr>\n    <tr>\n      <th>4</th>\n      <td>bb4e55b4fd9</td>\n      <td>cff195d0b71</td>\n      <td>1</td>\n    </tr>\n  </tbody>\n</table>\n</div>"
     },
     "execution_count": 184,
     "metadata": {},
     "output_type": "execute_result"
    }
   ],
   "source": [
    "df5.head()"
   ]
  },
  {
   "cell_type": "code",
   "execution_count": 185,
   "metadata": {
    "ExecuteTime": {
     "end_time": "2023-11-18T17:21:37.792330400Z",
     "start_time": "2023-11-18T17:21:37.737282600Z"
    }
   },
   "outputs": [
    {
     "data": {
      "text/plain": "   payment_order_id  height_of_package  width_of_package  length_of_package  \\\n0          68405119               2459              2302               2994   \n1          68405123                990              2905               2937   \n2          68405206                476              2597               1262   \n3          68405465               1968               621               1511   \n4          68406064                891               903               2783   \n\n   payment_fee payment_method payment_status  shipping_weight Warehouse_block  \\\n0         0.00        VOUCHER           PAID             1233               D   \n1         7.90         ONLINE           PAID             3088               F   \n2         5.59         ONLINE           PAID             3374               A   \n3         1.59         ONLINE           PAID             1177               B   \n4         0.92         ONLINE           PAID             2484               C   \n\n  Warehouse_city  order_date  \n0       New York  27/05/2021  \n1       San Jose  27/05/2021  \n2     Birmingham  20/04/2021  \n3       San Jose  28/05/2021  \n4         Boston  27/05/2021  ",
      "text/html": "<div>\n<style scoped>\n    .dataframe tbody tr th:only-of-type {\n        vertical-align: middle;\n    }\n\n    .dataframe tbody tr th {\n        vertical-align: top;\n    }\n\n    .dataframe thead th {\n        text-align: right;\n    }\n</style>\n<table border=\"1\" class=\"dataframe\">\n  <thead>\n    <tr style=\"text-align: right;\">\n      <th></th>\n      <th>payment_order_id</th>\n      <th>height_of_package</th>\n      <th>width_of_package</th>\n      <th>length_of_package</th>\n      <th>payment_fee</th>\n      <th>payment_method</th>\n      <th>payment_status</th>\n      <th>shipping_weight</th>\n      <th>Warehouse_block</th>\n      <th>Warehouse_city</th>\n      <th>order_date</th>\n    </tr>\n  </thead>\n  <tbody>\n    <tr>\n      <th>0</th>\n      <td>68405119</td>\n      <td>2459</td>\n      <td>2302</td>\n      <td>2994</td>\n      <td>0.00</td>\n      <td>VOUCHER</td>\n      <td>PAID</td>\n      <td>1233</td>\n      <td>D</td>\n      <td>New York</td>\n      <td>27/05/2021</td>\n    </tr>\n    <tr>\n      <th>1</th>\n      <td>68405123</td>\n      <td>990</td>\n      <td>2905</td>\n      <td>2937</td>\n      <td>7.90</td>\n      <td>ONLINE</td>\n      <td>PAID</td>\n      <td>3088</td>\n      <td>F</td>\n      <td>San Jose</td>\n      <td>27/05/2021</td>\n    </tr>\n    <tr>\n      <th>2</th>\n      <td>68405206</td>\n      <td>476</td>\n      <td>2597</td>\n      <td>1262</td>\n      <td>5.59</td>\n      <td>ONLINE</td>\n      <td>PAID</td>\n      <td>3374</td>\n      <td>A</td>\n      <td>Birmingham</td>\n      <td>20/04/2021</td>\n    </tr>\n    <tr>\n      <th>3</th>\n      <td>68405465</td>\n      <td>1968</td>\n      <td>621</td>\n      <td>1511</td>\n      <td>1.59</td>\n      <td>ONLINE</td>\n      <td>PAID</td>\n      <td>1177</td>\n      <td>B</td>\n      <td>San Jose</td>\n      <td>28/05/2021</td>\n    </tr>\n    <tr>\n      <th>4</th>\n      <td>68406064</td>\n      <td>891</td>\n      <td>903</td>\n      <td>2783</td>\n      <td>0.92</td>\n      <td>ONLINE</td>\n      <td>PAID</td>\n      <td>2484</td>\n      <td>C</td>\n      <td>Boston</td>\n      <td>27/05/2021</td>\n    </tr>\n  </tbody>\n</table>\n</div>"
     },
     "execution_count": 185,
     "metadata": {},
     "output_type": "execute_result"
    }
   ],
   "source": [
    "#No se usa\n",
    "df6.head()"
   ]
  },
  {
   "cell_type": "code",
   "execution_count": 186,
   "metadata": {
    "ExecuteTime": {
     "end_time": "2023-11-18T17:21:37.793504500Z",
     "start_time": "2023-11-18T17:21:37.750010500Z"
    }
   },
   "outputs": [
    {
     "data": {
      "text/plain": "     order_id  customer_id order_date  payment_order_id  quantity  \\\n0   960387648  72c00ba8bc7  27/5/2021          68405119         1   \n1  1188374829  b18a428ac77  27/5/2021          68405123         1   \n2  4375262147  2fdd0374a03  20/4/2021          68405206         1   \n3  4850000000  dc6358b12c3  28/5/2021          68405465         1   \n4  4946137764  c12e35b23ad  27/5/2021          68406064         3   \n\n  online_retail_seller  order_created_hour  order_created_minute  \\\n0               Amazon                   0                     1   \n1                Betsy                   0                     4   \n2                Betsy                   0                    13   \n3               Amazon                   0                    19   \n4               Amazon                   0                    26   \n\n   order_created_day  order_created_month  ...  height_of_package  \\\n0                  1                    1  ...               2459   \n1                  1                    1  ...                990   \n2                  1                    1  ...                476   \n3                  1                    1  ...               1968   \n4                  1                    1  ...                891   \n\n   width_of_package  length_of_package  payment_fee  payment_method  \\\n0              2302               2994         0.00         VOUCHER   \n1              2905               2937         7.90          ONLINE   \n2              2597               1262         5.59          ONLINE   \n3               621               1511         1.59          ONLINE   \n4               903               2783         0.92          ONLINE   \n\n   payment_status shipping_weight Warehouse_block  Warehouse_city delivery_fee  \n0            PAID            1233               D        New York        34.54  \n1            PAID            3088               F        San Jose        53.40  \n2            PAID            3374               A      Birmingham        11.12  \n3            PAID            1177               B        San Jose        11.58  \n4            PAID            2484               C          Boston        36.28  \n\n[5 rows x 22 columns]",
      "text/html": "<div>\n<style scoped>\n    .dataframe tbody tr th:only-of-type {\n        vertical-align: middle;\n    }\n\n    .dataframe tbody tr th {\n        vertical-align: top;\n    }\n\n    .dataframe thead th {\n        text-align: right;\n    }\n</style>\n<table border=\"1\" class=\"dataframe\">\n  <thead>\n    <tr style=\"text-align: right;\">\n      <th></th>\n      <th>order_id</th>\n      <th>customer_id</th>\n      <th>order_date</th>\n      <th>payment_order_id</th>\n      <th>quantity</th>\n      <th>online_retail_seller</th>\n      <th>order_created_hour</th>\n      <th>order_created_minute</th>\n      <th>order_created_day</th>\n      <th>order_created_month</th>\n      <th>...</th>\n      <th>height_of_package</th>\n      <th>width_of_package</th>\n      <th>length_of_package</th>\n      <th>payment_fee</th>\n      <th>payment_method</th>\n      <th>payment_status</th>\n      <th>shipping_weight</th>\n      <th>Warehouse_block</th>\n      <th>Warehouse_city</th>\n      <th>delivery_fee</th>\n    </tr>\n  </thead>\n  <tbody>\n    <tr>\n      <th>0</th>\n      <td>960387648</td>\n      <td>72c00ba8bc7</td>\n      <td>27/5/2021</td>\n      <td>68405119</td>\n      <td>1</td>\n      <td>Amazon</td>\n      <td>0</td>\n      <td>1</td>\n      <td>1</td>\n      <td>1</td>\n      <td>...</td>\n      <td>2459</td>\n      <td>2302</td>\n      <td>2994</td>\n      <td>0.00</td>\n      <td>VOUCHER</td>\n      <td>PAID</td>\n      <td>1233</td>\n      <td>D</td>\n      <td>New York</td>\n      <td>34.54</td>\n    </tr>\n    <tr>\n      <th>1</th>\n      <td>1188374829</td>\n      <td>b18a428ac77</td>\n      <td>27/5/2021</td>\n      <td>68405123</td>\n      <td>1</td>\n      <td>Betsy</td>\n      <td>0</td>\n      <td>4</td>\n      <td>1</td>\n      <td>1</td>\n      <td>...</td>\n      <td>990</td>\n      <td>2905</td>\n      <td>2937</td>\n      <td>7.90</td>\n      <td>ONLINE</td>\n      <td>PAID</td>\n      <td>3088</td>\n      <td>F</td>\n      <td>San Jose</td>\n      <td>53.40</td>\n    </tr>\n    <tr>\n      <th>2</th>\n      <td>4375262147</td>\n      <td>2fdd0374a03</td>\n      <td>20/4/2021</td>\n      <td>68405206</td>\n      <td>1</td>\n      <td>Betsy</td>\n      <td>0</td>\n      <td>13</td>\n      <td>1</td>\n      <td>1</td>\n      <td>...</td>\n      <td>476</td>\n      <td>2597</td>\n      <td>1262</td>\n      <td>5.59</td>\n      <td>ONLINE</td>\n      <td>PAID</td>\n      <td>3374</td>\n      <td>A</td>\n      <td>Birmingham</td>\n      <td>11.12</td>\n    </tr>\n    <tr>\n      <th>3</th>\n      <td>4850000000</td>\n      <td>dc6358b12c3</td>\n      <td>28/5/2021</td>\n      <td>68405465</td>\n      <td>1</td>\n      <td>Amazon</td>\n      <td>0</td>\n      <td>19</td>\n      <td>1</td>\n      <td>1</td>\n      <td>...</td>\n      <td>1968</td>\n      <td>621</td>\n      <td>1511</td>\n      <td>1.59</td>\n      <td>ONLINE</td>\n      <td>PAID</td>\n      <td>1177</td>\n      <td>B</td>\n      <td>San Jose</td>\n      <td>11.58</td>\n    </tr>\n    <tr>\n      <th>4</th>\n      <td>4946137764</td>\n      <td>c12e35b23ad</td>\n      <td>27/5/2021</td>\n      <td>68406064</td>\n      <td>3</td>\n      <td>Amazon</td>\n      <td>0</td>\n      <td>26</td>\n      <td>1</td>\n      <td>1</td>\n      <td>...</td>\n      <td>891</td>\n      <td>903</td>\n      <td>2783</td>\n      <td>0.92</td>\n      <td>ONLINE</td>\n      <td>PAID</td>\n      <td>2484</td>\n      <td>C</td>\n      <td>Boston</td>\n      <td>36.28</td>\n    </tr>\n  </tbody>\n</table>\n<p>5 rows × 22 columns</p>\n</div>"
     },
     "execution_count": 186,
     "metadata": {},
     "output_type": "execute_result"
    }
   ],
   "source": [
    "df7.head()"
   ]
  },
  {
   "cell_type": "code",
   "execution_count": 187,
   "metadata": {
    "ExecuteTime": {
     "end_time": "2023-11-18T17:21:37.793504500Z",
     "start_time": "2023-11-18T17:21:37.767168400Z"
    }
   },
   "outputs": [],
   "source": [
    "df7.drop(columns=[\"order_date\",\"order_created_hour\",\"order_created_minute\",\"order_created_day\",\"order_created_month\",\"order_created_year\",\"height_of_package\",\"width_of_package\",\"length_of_package\",\"payment_fee\",\"payment_method\",\"payment_status\",\"shipping_weight\",\"Warehouse_block\",\"Warehouse_city\",\"delivery_fee\"],inplace=True)"
   ]
  },
  {
   "cell_type": "code",
   "execution_count": 188,
   "metadata": {
    "ExecuteTime": {
     "end_time": "2023-11-18T17:21:37.795064700Z",
     "start_time": "2023-11-18T17:21:37.770675200Z"
    }
   },
   "outputs": [
    {
     "data": {
      "text/plain": "     order_id  customer_id  payment_order_id  quantity online_retail_seller  \\\n0   960387648  72c00ba8bc7          68405119         1               Amazon   \n1  1188374829  b18a428ac77          68405123         1                Betsy   \n2  4375262147  2fdd0374a03          68405206         1                Betsy   \n3  4850000000  dc6358b12c3          68405465         1               Amazon   \n4  4946137764  c12e35b23ad          68406064         3               Amazon   \n\n   payment_amount  \n0          290.54  \n1          285.40  \n2          266.12  \n3          196.58  \n4          819.28  ",
      "text/html": "<div>\n<style scoped>\n    .dataframe tbody tr th:only-of-type {\n        vertical-align: middle;\n    }\n\n    .dataframe tbody tr th {\n        vertical-align: top;\n    }\n\n    .dataframe thead th {\n        text-align: right;\n    }\n</style>\n<table border=\"1\" class=\"dataframe\">\n  <thead>\n    <tr style=\"text-align: right;\">\n      <th></th>\n      <th>order_id</th>\n      <th>customer_id</th>\n      <th>payment_order_id</th>\n      <th>quantity</th>\n      <th>online_retail_seller</th>\n      <th>payment_amount</th>\n    </tr>\n  </thead>\n  <tbody>\n    <tr>\n      <th>0</th>\n      <td>960387648</td>\n      <td>72c00ba8bc7</td>\n      <td>68405119</td>\n      <td>1</td>\n      <td>Amazon</td>\n      <td>290.54</td>\n    </tr>\n    <tr>\n      <th>1</th>\n      <td>1188374829</td>\n      <td>b18a428ac77</td>\n      <td>68405123</td>\n      <td>1</td>\n      <td>Betsy</td>\n      <td>285.40</td>\n    </tr>\n    <tr>\n      <th>2</th>\n      <td>4375262147</td>\n      <td>2fdd0374a03</td>\n      <td>68405206</td>\n      <td>1</td>\n      <td>Betsy</td>\n      <td>266.12</td>\n    </tr>\n    <tr>\n      <th>3</th>\n      <td>4850000000</td>\n      <td>dc6358b12c3</td>\n      <td>68405465</td>\n      <td>1</td>\n      <td>Amazon</td>\n      <td>196.58</td>\n    </tr>\n    <tr>\n      <th>4</th>\n      <td>4946137764</td>\n      <td>c12e35b23ad</td>\n      <td>68406064</td>\n      <td>3</td>\n      <td>Amazon</td>\n      <td>819.28</td>\n    </tr>\n  </tbody>\n</table>\n</div>"
     },
     "execution_count": 188,
     "metadata": {},
     "output_type": "execute_result"
    }
   ],
   "source": [
    "df7.head()"
   ]
  },
  {
   "cell_type": "code",
   "execution_count": 189,
   "metadata": {
    "ExecuteTime": {
     "end_time": "2023-11-18T17:21:37.798071500Z",
     "start_time": "2023-11-18T17:21:37.781162800Z"
    }
   },
   "outputs": [
    {
     "data": {
      "text/plain": "    product_id     store_id  \\\n0  6657ea517e5  9ec2a041202   \n1  dea641aaa2f  b383efe2d36   \n2  e291975717f  8acab88f23d   \n3  73e239eb23d  5275ba1c2b4   \n4  cff195d0b71  94004ba5c87   \n\n                                         product_url  \\\n0  http://www.flipkart.com/alisha-solid-women-s-c...   \n1  http://www.flipkart.com/fabhomedecor-fabric-do...   \n2  http://www.flipkart.com/aw-bellies/p/itmeh4grg...   \n3  http://www.flipkart.com/alisha-solid-women-s-c...   \n4  http://www.flipkart.com/sicons-all-purpose-arn...   \n\n                            product_name online_retail_seller  \\\n0    Alisha Solid Women's Cycling Shorts               Amazon   \n1    FabHomeDecor Fabric Double Sofa Bed                Betsy   \n2                             AW Bellies                Betsy   \n3    Alisha Solid Women's Cycling Shorts               Amazon   \n4  Sicons All Purpose Arnica Dog Shampoo               Amazon   \n\n                pid                                           category  \\\n0  SRTEH2FF9KEDEFGF  Sports & Outdoors | Outdoor Recreation | Skate...   \n1  SBEEH3QGU7MFYJFY  Toys & Games | Learning & Education | Science ...   \n2  SHOEH4GRSUBJGZXE          Toys & Games | Arts & Crafts | Craft Kits   \n3  SRTEH2F6HUZMQ6SJ  Toys & Games | Hobbies | Models & Model Kits |...   \n4  PSOEH3ZYDMSYARJ5            Toys & Games | Puzzles | Jigsaw Puzzles   \n\n   cost_of_product  discount_offered  cost_after_discount  quantity  \\\n0              177                44                  221       347   \n1              216                59                  275       348   \n2              183                48                  231       443   \n3              176                10                  186       305   \n4              184                46                  230       191   \n\n   weight_in_gams                                              image  \\\n0            1233  [\"http://img5a.flixcart.com/image/short/u/4/a/...   \n1            3088  [\"http://img6a.flixcart.com/image/sofa-bed/j/f...   \n2            3374  [\"http://img5a.flixcart.com/image/shoe/7/z/z/r...   \n3            1177  [\"http://img5a.flixcart.com/image/short/6/2/h/...   \n4            2484  [\"http://img5a.flixcart.com/image/pet-shampoo/...   \n\n   number_of_reviews  number_of_answered_questions  average_review_rating  \\\n0               15.0                           1.0                    4.9   \n1                2.0                           1.0                    4.5   \n2               17.0                           2.0                    3.9   \n3                1.0                           2.0                    5.0   \n4                3.0                           2.0                    4.7   \n\n   is_advantage_product                                        description  \\\n0                 False  Key Features of Alisha Solid Women's Cycling S...   \n1                 False  FabHomeDecor Fabric Double Sofa Bed (Finish Co...   \n2                 False  Key Features of AW Bellies Sandals Wedges Heel...   \n3                 False  Key Features of Alisha Solid Women's Cycling S...   \n4                 False  Specifications of Sicons All Purpose Arnica Do...   \n\n          brand                             product_specifications  \n0        Alisha  {\"product_specification\"=>[{\"key\"=>\"Number of ...  \n1  FabHomeDecor  {\"product_specification\"=>[{\"key\"=>\"Installati...  \n2            AW  {\"product_specification\"=>[{\"key\"=>\"Ideal For\"...  \n3        Alisha  {\"product_specification\"=>[{\"key\"=>\"Number of ...  \n4        Sicons  {\"product_specification\"=>[{\"key\"=>\"Pet Type\",...  ",
      "text/html": "<div>\n<style scoped>\n    .dataframe tbody tr th:only-of-type {\n        vertical-align: middle;\n    }\n\n    .dataframe tbody tr th {\n        vertical-align: top;\n    }\n\n    .dataframe thead th {\n        text-align: right;\n    }\n</style>\n<table border=\"1\" class=\"dataframe\">\n  <thead>\n    <tr style=\"text-align: right;\">\n      <th></th>\n      <th>product_id</th>\n      <th>store_id</th>\n      <th>product_url</th>\n      <th>product_name</th>\n      <th>online_retail_seller</th>\n      <th>pid</th>\n      <th>category</th>\n      <th>cost_of_product</th>\n      <th>discount_offered</th>\n      <th>cost_after_discount</th>\n      <th>quantity</th>\n      <th>weight_in_gams</th>\n      <th>image</th>\n      <th>number_of_reviews</th>\n      <th>number_of_answered_questions</th>\n      <th>average_review_rating</th>\n      <th>is_advantage_product</th>\n      <th>description</th>\n      <th>brand</th>\n      <th>product_specifications</th>\n    </tr>\n  </thead>\n  <tbody>\n    <tr>\n      <th>0</th>\n      <td>6657ea517e5</td>\n      <td>9ec2a041202</td>\n      <td>http://www.flipkart.com/alisha-solid-women-s-c...</td>\n      <td>Alisha Solid Women's Cycling Shorts</td>\n      <td>Amazon</td>\n      <td>SRTEH2FF9KEDEFGF</td>\n      <td>Sports &amp; Outdoors | Outdoor Recreation | Skate...</td>\n      <td>177</td>\n      <td>44</td>\n      <td>221</td>\n      <td>347</td>\n      <td>1233</td>\n      <td>[\"http://img5a.flixcart.com/image/short/u/4/a/...</td>\n      <td>15.0</td>\n      <td>1.0</td>\n      <td>4.9</td>\n      <td>False</td>\n      <td>Key Features of Alisha Solid Women's Cycling S...</td>\n      <td>Alisha</td>\n      <td>{\"product_specification\"=&gt;[{\"key\"=&gt;\"Number of ...</td>\n    </tr>\n    <tr>\n      <th>1</th>\n      <td>dea641aaa2f</td>\n      <td>b383efe2d36</td>\n      <td>http://www.flipkart.com/fabhomedecor-fabric-do...</td>\n      <td>FabHomeDecor Fabric Double Sofa Bed</td>\n      <td>Betsy</td>\n      <td>SBEEH3QGU7MFYJFY</td>\n      <td>Toys &amp; Games | Learning &amp; Education | Science ...</td>\n      <td>216</td>\n      <td>59</td>\n      <td>275</td>\n      <td>348</td>\n      <td>3088</td>\n      <td>[\"http://img6a.flixcart.com/image/sofa-bed/j/f...</td>\n      <td>2.0</td>\n      <td>1.0</td>\n      <td>4.5</td>\n      <td>False</td>\n      <td>FabHomeDecor Fabric Double Sofa Bed (Finish Co...</td>\n      <td>FabHomeDecor</td>\n      <td>{\"product_specification\"=&gt;[{\"key\"=&gt;\"Installati...</td>\n    </tr>\n    <tr>\n      <th>2</th>\n      <td>e291975717f</td>\n      <td>8acab88f23d</td>\n      <td>http://www.flipkart.com/aw-bellies/p/itmeh4grg...</td>\n      <td>AW Bellies</td>\n      <td>Betsy</td>\n      <td>SHOEH4GRSUBJGZXE</td>\n      <td>Toys &amp; Games | Arts &amp; Crafts | Craft Kits</td>\n      <td>183</td>\n      <td>48</td>\n      <td>231</td>\n      <td>443</td>\n      <td>3374</td>\n      <td>[\"http://img5a.flixcart.com/image/shoe/7/z/z/r...</td>\n      <td>17.0</td>\n      <td>2.0</td>\n      <td>3.9</td>\n      <td>False</td>\n      <td>Key Features of AW Bellies Sandals Wedges Heel...</td>\n      <td>AW</td>\n      <td>{\"product_specification\"=&gt;[{\"key\"=&gt;\"Ideal For\"...</td>\n    </tr>\n    <tr>\n      <th>3</th>\n      <td>73e239eb23d</td>\n      <td>5275ba1c2b4</td>\n      <td>http://www.flipkart.com/alisha-solid-women-s-c...</td>\n      <td>Alisha Solid Women's Cycling Shorts</td>\n      <td>Amazon</td>\n      <td>SRTEH2F6HUZMQ6SJ</td>\n      <td>Toys &amp; Games | Hobbies | Models &amp; Model Kits |...</td>\n      <td>176</td>\n      <td>10</td>\n      <td>186</td>\n      <td>305</td>\n      <td>1177</td>\n      <td>[\"http://img5a.flixcart.com/image/short/6/2/h/...</td>\n      <td>1.0</td>\n      <td>2.0</td>\n      <td>5.0</td>\n      <td>False</td>\n      <td>Key Features of Alisha Solid Women's Cycling S...</td>\n      <td>Alisha</td>\n      <td>{\"product_specification\"=&gt;[{\"key\"=&gt;\"Number of ...</td>\n    </tr>\n    <tr>\n      <th>4</th>\n      <td>cff195d0b71</td>\n      <td>94004ba5c87</td>\n      <td>http://www.flipkart.com/sicons-all-purpose-arn...</td>\n      <td>Sicons All Purpose Arnica Dog Shampoo</td>\n      <td>Amazon</td>\n      <td>PSOEH3ZYDMSYARJ5</td>\n      <td>Toys &amp; Games | Puzzles | Jigsaw Puzzles</td>\n      <td>184</td>\n      <td>46</td>\n      <td>230</td>\n      <td>191</td>\n      <td>2484</td>\n      <td>[\"http://img5a.flixcart.com/image/pet-shampoo/...</td>\n      <td>3.0</td>\n      <td>2.0</td>\n      <td>4.7</td>\n      <td>False</td>\n      <td>Specifications of Sicons All Purpose Arnica Do...</td>\n      <td>Sicons</td>\n      <td>{\"product_specification\"=&gt;[{\"key\"=&gt;\"Pet Type\",...</td>\n    </tr>\n  </tbody>\n</table>\n</div>"
     },
     "execution_count": 189,
     "metadata": {},
     "output_type": "execute_result"
    }
   ],
   "source": [
    "df8.head()"
   ]
  },
  {
   "cell_type": "code",
   "execution_count": 190,
   "metadata": {
    "ExecuteTime": {
     "end_time": "2023-11-18T17:21:37.946653300Z",
     "start_time": "2023-11-18T17:21:37.798071500Z"
    }
   },
   "outputs": [],
   "source": [
    "df8=df8.iloc[:,0:7]\n",
    "df8.drop(columns=[\"product_url\",\"pid\"],inplace=True)"
   ]
  },
  {
   "cell_type": "code",
   "execution_count": 191,
   "metadata": {
    "ExecuteTime": {
     "end_time": "2023-11-18T17:21:37.986478400Z",
     "start_time": "2023-11-18T17:21:37.811085900Z"
    }
   },
   "outputs": [
    {
     "data": {
      "text/plain": "    product_id     store_id                           product_name  \\\n0  6657ea517e5  9ec2a041202    Alisha Solid Women's Cycling Shorts   \n1  dea641aaa2f  b383efe2d36    FabHomeDecor Fabric Double Sofa Bed   \n2  e291975717f  8acab88f23d                             AW Bellies   \n3  73e239eb23d  5275ba1c2b4    Alisha Solid Women's Cycling Shorts   \n4  cff195d0b71  94004ba5c87  Sicons All Purpose Arnica Dog Shampoo   \n\n  online_retail_seller                                           category  \n0               Amazon  Sports & Outdoors | Outdoor Recreation | Skate...  \n1                Betsy  Toys & Games | Learning & Education | Science ...  \n2                Betsy          Toys & Games | Arts & Crafts | Craft Kits  \n3               Amazon  Toys & Games | Hobbies | Models & Model Kits |...  \n4               Amazon            Toys & Games | Puzzles | Jigsaw Puzzles  ",
      "text/html": "<div>\n<style scoped>\n    .dataframe tbody tr th:only-of-type {\n        vertical-align: middle;\n    }\n\n    .dataframe tbody tr th {\n        vertical-align: top;\n    }\n\n    .dataframe thead th {\n        text-align: right;\n    }\n</style>\n<table border=\"1\" class=\"dataframe\">\n  <thead>\n    <tr style=\"text-align: right;\">\n      <th></th>\n      <th>product_id</th>\n      <th>store_id</th>\n      <th>product_name</th>\n      <th>online_retail_seller</th>\n      <th>category</th>\n    </tr>\n  </thead>\n  <tbody>\n    <tr>\n      <th>0</th>\n      <td>6657ea517e5</td>\n      <td>9ec2a041202</td>\n      <td>Alisha Solid Women's Cycling Shorts</td>\n      <td>Amazon</td>\n      <td>Sports &amp; Outdoors | Outdoor Recreation | Skate...</td>\n    </tr>\n    <tr>\n      <th>1</th>\n      <td>dea641aaa2f</td>\n      <td>b383efe2d36</td>\n      <td>FabHomeDecor Fabric Double Sofa Bed</td>\n      <td>Betsy</td>\n      <td>Toys &amp; Games | Learning &amp; Education | Science ...</td>\n    </tr>\n    <tr>\n      <th>2</th>\n      <td>e291975717f</td>\n      <td>8acab88f23d</td>\n      <td>AW Bellies</td>\n      <td>Betsy</td>\n      <td>Toys &amp; Games | Arts &amp; Crafts | Craft Kits</td>\n    </tr>\n    <tr>\n      <th>3</th>\n      <td>73e239eb23d</td>\n      <td>5275ba1c2b4</td>\n      <td>Alisha Solid Women's Cycling Shorts</td>\n      <td>Amazon</td>\n      <td>Toys &amp; Games | Hobbies | Models &amp; Model Kits |...</td>\n    </tr>\n    <tr>\n      <th>4</th>\n      <td>cff195d0b71</td>\n      <td>94004ba5c87</td>\n      <td>Sicons All Purpose Arnica Dog Shampoo</td>\n      <td>Amazon</td>\n      <td>Toys &amp; Games | Puzzles | Jigsaw Puzzles</td>\n    </tr>\n  </tbody>\n</table>\n</div>"
     },
     "execution_count": 191,
     "metadata": {},
     "output_type": "execute_result"
    }
   ],
   "source": [
    "df8.head()"
   ]
  },
  {
   "cell_type": "markdown",
   "metadata": {},
   "source": []
  },
  {
   "cell_type": "markdown",
   "source": [
    "##unión de los datasets"
   ],
   "metadata": {
    "collapsed": false
   }
  },
  {
   "cell_type": "code",
   "execution_count": 192,
   "metadata": {
    "ExecuteTime": {
     "end_time": "2023-11-18T17:21:37.986478400Z",
     "start_time": "2023-11-18T17:21:37.818206200Z"
    }
   },
   "outputs": [],
   "source": [
    "df12=df1.merge(df2,on=\"customer_id\",how='outer')"
   ]
  },
  {
   "cell_type": "code",
   "execution_count": 193,
   "metadata": {
    "ExecuteTime": {
     "end_time": "2023-11-18T17:21:38.010837500Z",
     "start_time": "2023-11-18T17:21:37.836410600Z"
    }
   },
   "outputs": [
    {
     "name": "stdout",
     "output_type": "stream",
     "text": [
      "<class 'pandas.core.frame.DataFrame'>\n",
      "RangeIndex: 10274 entries, 0 to 10273\n",
      "Data columns (total 10 columns):\n",
      " #   Column                Non-Null Count  Dtype  \n",
      "---  ------                --------------  -----  \n",
      " 0   customer_id           10274 non-null  object \n",
      " 1   first_name            10257 non-null  object \n",
      " 2   last_name             10257 non-null  object \n",
      " 3   gender                10257 non-null  object \n",
      " 4   age                   10257 non-null  float64\n",
      " 5   order_id              10000 non-null  object \n",
      " 6   payment_order_id      10000 non-null  float64\n",
      " 7   quatity               10000 non-null  float64\n",
      " 8   online_retail_seller  10000 non-null  object \n",
      " 9   payment_amount        10000 non-null  float64\n",
      "dtypes: float64(4), object(6)\n",
      "memory usage: 802.8+ KB\n"
     ]
    }
   ],
   "source": [
    "df12.info()"
   ]
  },
  {
   "cell_type": "code",
   "execution_count": 194,
   "metadata": {
    "ExecuteTime": {
     "end_time": "2023-11-18T17:21:38.119089400Z",
     "start_time": "2023-11-18T17:21:37.848053900Z"
    }
   },
   "outputs": [],
   "source": [
    "df125=df12.merge(df5,on=\"order_id\",how='outer')"
   ]
  },
  {
   "cell_type": "markdown",
   "source": [],
   "metadata": {
    "collapsed": false
   }
  },
  {
   "cell_type": "code",
   "execution_count": 195,
   "metadata": {
    "ExecuteTime": {
     "end_time": "2023-11-18T17:21:38.167421300Z",
     "start_time": "2023-11-18T17:21:37.864946700Z"
    }
   },
   "outputs": [
    {
     "name": "stdout",
     "output_type": "stream",
     "text": [
      "<class 'pandas.core.frame.DataFrame'>\n",
      "RangeIndex: 11688 entries, 0 to 11687\n",
      "Data columns (total 12 columns):\n",
      " #   Column                Non-Null Count  Dtype  \n",
      "---  ------                --------------  -----  \n",
      " 0   customer_id           11667 non-null  object \n",
      " 1   first_name            11648 non-null  object \n",
      " 2   last_name             11648 non-null  object \n",
      " 3   gender                11648 non-null  object \n",
      " 4   age                   11648 non-null  float64\n",
      " 5   order_id              11414 non-null  object \n",
      " 6   payment_order_id      11393 non-null  float64\n",
      " 7   quatity               11393 non-null  float64\n",
      " 8   online_retail_seller  11393 non-null  object \n",
      " 9   payment_amount        11393 non-null  float64\n",
      " 10  product_id            11396 non-null  object \n",
      " 11  quantity              11396 non-null  float64\n",
      "dtypes: float64(5), object(7)\n",
      "memory usage: 1.1+ MB\n"
     ]
    }
   ],
   "source": [
    "df125.info()"
   ]
  },
  {
   "cell_type": "code",
   "execution_count": 196,
   "metadata": {
    "ExecuteTime": {
     "end_time": "2023-11-18T17:21:38.214578200Z",
     "start_time": "2023-11-18T17:21:37.875733300Z"
    }
   },
   "outputs": [],
   "source": [
    "df1258=df125.merge(df8,on=\"product_id\",how='outer')"
   ]
  },
  {
   "cell_type": "code",
   "execution_count": 197,
   "metadata": {
    "ExecuteTime": {
     "end_time": "2023-11-18T17:21:38.286515500Z",
     "start_time": "2023-11-18T17:21:37.894451200Z"
    }
   },
   "outputs": [
    {
     "name": "stdout",
     "output_type": "stream",
     "text": [
      "<class 'pandas.core.frame.DataFrame'>\n",
      "RangeIndex: 11688 entries, 0 to 11687\n",
      "Data columns (total 16 columns):\n",
      " #   Column                  Non-Null Count  Dtype  \n",
      "---  ------                  --------------  -----  \n",
      " 0   customer_id             11667 non-null  object \n",
      " 1   first_name              11648 non-null  object \n",
      " 2   last_name               11648 non-null  object \n",
      " 3   gender                  11648 non-null  object \n",
      " 4   age                     11648 non-null  float64\n",
      " 5   order_id                11414 non-null  object \n",
      " 6   payment_order_id        11393 non-null  float64\n",
      " 7   quatity                 11393 non-null  float64\n",
      " 8   online_retail_seller_x  11393 non-null  object \n",
      " 9   payment_amount          11393 non-null  float64\n",
      " 10  product_id              11396 non-null  object \n",
      " 11  quantity                11396 non-null  float64\n",
      " 12  store_id                11396 non-null  object \n",
      " 13  product_name            11396 non-null  object \n",
      " 14  online_retail_seller_y  11396 non-null  object \n",
      " 15  category                10456 non-null  object \n",
      "dtypes: float64(5), object(11)\n",
      "memory usage: 1.4+ MB\n"
     ]
    }
   ],
   "source": [
    "df1258.info()"
   ]
  },
  {
   "cell_type": "markdown",
   "source": [],
   "metadata": {
    "collapsed": false
   }
  },
  {
   "cell_type": "code",
   "execution_count": 198,
   "metadata": {
    "ExecuteTime": {
     "end_time": "2023-11-18T17:21:38.338323300Z",
     "start_time": "2023-11-18T17:21:37.911086400Z"
    }
   },
   "outputs": [],
   "source": [
    "df1258[df1258[\"category\"].isna()]\n",
    "df1258.dropna(inplace=True)\n",
    "df1258.drop_duplicates(inplace=True)"
   ]
  },
  {
   "cell_type": "markdown",
   "source": [],
   "metadata": {
    "collapsed": false
   }
  },
  {
   "cell_type": "code",
   "execution_count": 199,
   "metadata": {
    "ExecuteTime": {
     "end_time": "2023-11-18T17:21:38.339641800Z",
     "start_time": "2023-11-18T17:21:37.946653300Z"
    }
   },
   "outputs": [
    {
     "data": {
      "text/plain": "       customer_id first_name last_name  gender   age online_retail_seller_x  \\\n0      72c00ba8bc7      James      Butt  Female  33.0                 Amazon   \n1      8029b5d9ab5   Cheyenne  Atkinson  Female  39.0                 Amazon   \n2      b18a428ac77  Josephine   Darakjy    Male  34.0                  Betsy   \n3      0a3112dc495    Claudia    Barber    Male  47.0                  Betsy   \n4      2fdd0374a03        Art    Venere    Male  60.0                  Betsy   \n...            ...        ...       ...     ...   ...                    ...   \n11646  ffb699b2e82      Brady     Bauer  Female  58.0                 Amazon   \n11647  6ef18f2a465   Caroline  Jacobson    Male  25.0                  Betsy   \n11649  7fb7673e880      Mindy      Haas    Male  45.0                  Betsy   \n11651  e35b73dc934    Adriana  Mitchell    Male  26.0                  Betsy   \n11653  1f2f8274c0a       Mike    Harvey  Female  53.0                 Amazon   \n\n       payment_amount   product_id  quantity     store_id  \\\n0               145.0  6657ea517e5       1.0  9ec2a041202   \n1               172.0  6657ea517e5       1.0  9ec2a041202   \n2               251.0  dea641aaa2f       1.0  b383efe2d36   \n3               182.0  dea641aaa2f       1.0  b383efe2d36   \n4               214.0  e291975717f       1.0  8acab88f23d   \n...               ...          ...       ...          ...   \n11646            88.0  b2b56a28e04       1.0  0531780ce60   \n11647           202.0  316f4515d74       1.0  8b6550e0bfa   \n11649            88.0  fdd71eaf72d       1.0  fbc860bc613   \n11651           138.0  34843b00b06       1.0  371abd825bf   \n11653           219.0  5e03b2e2817       1.0  378d1c939f5   \n\n                                            product_name  \\\n0                    Alisha Solid Women's Cycling Shorts   \n1                    Alisha Solid Women's Cycling Shorts   \n2                    FabHomeDecor Fabric Double Sofa Bed   \n3                    FabHomeDecor Fabric Double Sofa Bed   \n4                                             AW Bellies   \n...                                                  ...   \n11646               AutoKraftZ Silicone Car Bumper Guard   \n11647    Nine Maternity Wear Women's Fit and Flare Dress   \n11649                            Betty Girl's Maxi Dress   \n11651  Aroma Care Intense Color Nail Polish Combo 175...   \n11653       Speedwav 240350 Sun Shade For Tata Indigo CS   \n\n      online_retail_seller_y  \\\n0                     Amazon   \n1                     Amazon   \n2                      Betsy   \n3                      Betsy   \n4                      Betsy   \n...                      ...   \n11646                 Amazon   \n11647                 Amazon   \n11649                 Amazon   \n11651                 Amazon   \n11653                 Amazon   \n\n                                                category  \n0      Sports & Outdoors | Outdoor Recreation | Skate...  \n1      Sports & Outdoors | Outdoor Recreation | Skate...  \n2      Toys & Games | Learning & Education | Science ...  \n3      Toys & Games | Learning & Education | Science ...  \n4              Toys & Games | Arts & Crafts | Craft Kits  \n...                                                  ...  \n11646  Office Products | Office & School Supplies | E...  \n11647  Baby Products | Activity & Entertainment | Bou...  \n11649  Sports & Outdoors | Sports & Fitness | Leisure...  \n11651  Toys & Games | Baby & Toddler Toys | Push & Pu...  \n11653  Clothing, Shoes & Jewelry | Costumes & Accesso...  \n\n[10417 rows x 13 columns]",
      "text/html": "<div>\n<style scoped>\n    .dataframe tbody tr th:only-of-type {\n        vertical-align: middle;\n    }\n\n    .dataframe tbody tr th {\n        vertical-align: top;\n    }\n\n    .dataframe thead th {\n        text-align: right;\n    }\n</style>\n<table border=\"1\" class=\"dataframe\">\n  <thead>\n    <tr style=\"text-align: right;\">\n      <th></th>\n      <th>customer_id</th>\n      <th>first_name</th>\n      <th>last_name</th>\n      <th>gender</th>\n      <th>age</th>\n      <th>online_retail_seller_x</th>\n      <th>payment_amount</th>\n      <th>product_id</th>\n      <th>quantity</th>\n      <th>store_id</th>\n      <th>product_name</th>\n      <th>online_retail_seller_y</th>\n      <th>category</th>\n    </tr>\n  </thead>\n  <tbody>\n    <tr>\n      <th>0</th>\n      <td>72c00ba8bc7</td>\n      <td>James</td>\n      <td>Butt</td>\n      <td>Female</td>\n      <td>33.0</td>\n      <td>Amazon</td>\n      <td>145.0</td>\n      <td>6657ea517e5</td>\n      <td>1.0</td>\n      <td>9ec2a041202</td>\n      <td>Alisha Solid Women's Cycling Shorts</td>\n      <td>Amazon</td>\n      <td>Sports &amp; Outdoors | Outdoor Recreation | Skate...</td>\n    </tr>\n    <tr>\n      <th>1</th>\n      <td>8029b5d9ab5</td>\n      <td>Cheyenne</td>\n      <td>Atkinson</td>\n      <td>Female</td>\n      <td>39.0</td>\n      <td>Amazon</td>\n      <td>172.0</td>\n      <td>6657ea517e5</td>\n      <td>1.0</td>\n      <td>9ec2a041202</td>\n      <td>Alisha Solid Women's Cycling Shorts</td>\n      <td>Amazon</td>\n      <td>Sports &amp; Outdoors | Outdoor Recreation | Skate...</td>\n    </tr>\n    <tr>\n      <th>2</th>\n      <td>b18a428ac77</td>\n      <td>Josephine</td>\n      <td>Darakjy</td>\n      <td>Male</td>\n      <td>34.0</td>\n      <td>Betsy</td>\n      <td>251.0</td>\n      <td>dea641aaa2f</td>\n      <td>1.0</td>\n      <td>b383efe2d36</td>\n      <td>FabHomeDecor Fabric Double Sofa Bed</td>\n      <td>Betsy</td>\n      <td>Toys &amp; Games | Learning &amp; Education | Science ...</td>\n    </tr>\n    <tr>\n      <th>3</th>\n      <td>0a3112dc495</td>\n      <td>Claudia</td>\n      <td>Barber</td>\n      <td>Male</td>\n      <td>47.0</td>\n      <td>Betsy</td>\n      <td>182.0</td>\n      <td>dea641aaa2f</td>\n      <td>1.0</td>\n      <td>b383efe2d36</td>\n      <td>FabHomeDecor Fabric Double Sofa Bed</td>\n      <td>Betsy</td>\n      <td>Toys &amp; Games | Learning &amp; Education | Science ...</td>\n    </tr>\n    <tr>\n      <th>4</th>\n      <td>2fdd0374a03</td>\n      <td>Art</td>\n      <td>Venere</td>\n      <td>Male</td>\n      <td>60.0</td>\n      <td>Betsy</td>\n      <td>214.0</td>\n      <td>e291975717f</td>\n      <td>1.0</td>\n      <td>8acab88f23d</td>\n      <td>AW Bellies</td>\n      <td>Betsy</td>\n      <td>Toys &amp; Games | Arts &amp; Crafts | Craft Kits</td>\n    </tr>\n    <tr>\n      <th>...</th>\n      <td>...</td>\n      <td>...</td>\n      <td>...</td>\n      <td>...</td>\n      <td>...</td>\n      <td>...</td>\n      <td>...</td>\n      <td>...</td>\n      <td>...</td>\n      <td>...</td>\n      <td>...</td>\n      <td>...</td>\n      <td>...</td>\n    </tr>\n    <tr>\n      <th>11646</th>\n      <td>ffb699b2e82</td>\n      <td>Brady</td>\n      <td>Bauer</td>\n      <td>Female</td>\n      <td>58.0</td>\n      <td>Amazon</td>\n      <td>88.0</td>\n      <td>b2b56a28e04</td>\n      <td>1.0</td>\n      <td>0531780ce60</td>\n      <td>AutoKraftZ Silicone Car Bumper Guard</td>\n      <td>Amazon</td>\n      <td>Office Products | Office &amp; School Supplies | E...</td>\n    </tr>\n    <tr>\n      <th>11647</th>\n      <td>6ef18f2a465</td>\n      <td>Caroline</td>\n      <td>Jacobson</td>\n      <td>Male</td>\n      <td>25.0</td>\n      <td>Betsy</td>\n      <td>202.0</td>\n      <td>316f4515d74</td>\n      <td>1.0</td>\n      <td>8b6550e0bfa</td>\n      <td>Nine Maternity Wear Women's Fit and Flare Dress</td>\n      <td>Amazon</td>\n      <td>Baby Products | Activity &amp; Entertainment | Bou...</td>\n    </tr>\n    <tr>\n      <th>11649</th>\n      <td>7fb7673e880</td>\n      <td>Mindy</td>\n      <td>Haas</td>\n      <td>Male</td>\n      <td>45.0</td>\n      <td>Betsy</td>\n      <td>88.0</td>\n      <td>fdd71eaf72d</td>\n      <td>1.0</td>\n      <td>fbc860bc613</td>\n      <td>Betty Girl's Maxi Dress</td>\n      <td>Amazon</td>\n      <td>Sports &amp; Outdoors | Sports &amp; Fitness | Leisure...</td>\n    </tr>\n    <tr>\n      <th>11651</th>\n      <td>e35b73dc934</td>\n      <td>Adriana</td>\n      <td>Mitchell</td>\n      <td>Male</td>\n      <td>26.0</td>\n      <td>Betsy</td>\n      <td>138.0</td>\n      <td>34843b00b06</td>\n      <td>1.0</td>\n      <td>371abd825bf</td>\n      <td>Aroma Care Intense Color Nail Polish Combo 175...</td>\n      <td>Amazon</td>\n      <td>Toys &amp; Games | Baby &amp; Toddler Toys | Push &amp; Pu...</td>\n    </tr>\n    <tr>\n      <th>11653</th>\n      <td>1f2f8274c0a</td>\n      <td>Mike</td>\n      <td>Harvey</td>\n      <td>Female</td>\n      <td>53.0</td>\n      <td>Amazon</td>\n      <td>219.0</td>\n      <td>5e03b2e2817</td>\n      <td>1.0</td>\n      <td>378d1c939f5</td>\n      <td>Speedwav 240350 Sun Shade For Tata Indigo CS</td>\n      <td>Amazon</td>\n      <td>Clothing, Shoes &amp; Jewelry | Costumes &amp; Accesso...</td>\n    </tr>\n  </tbody>\n</table>\n<p>10417 rows × 13 columns</p>\n</div>"
     },
     "execution_count": 199,
     "metadata": {},
     "output_type": "execute_result"
    }
   ],
   "source": [
    "df1258.drop(columns=[\"order_id\",\"payment_order_id\",\"quatity\"])"
   ]
  },
  {
   "cell_type": "markdown",
   "source": [],
   "metadata": {
    "collapsed": false
   }
  },
  {
   "cell_type": "code",
   "execution_count": 200,
   "metadata": {
    "ExecuteTime": {
     "end_time": "2023-11-18T17:21:38.339641800Z",
     "start_time": "2023-11-18T17:21:37.963320200Z"
    }
   },
   "outputs": [
    {
     "data": {
      "text/plain": "    customer_id first_name last_name  gender   age     order_id  \\\n10  2c82e1212b8     Simona   Morasca  Female  49.0  2a0634bc1ea   \n12  2c82e1212b8     Simona   Morasca  Female  49.0  b08b904576c   \n\n    payment_order_id  quatity online_retail_seller_x  payment_amount  \\\n10        68408108.0      1.0                 Amazon           154.0   \n12        68410055.0      1.0                 Amazon            92.0   \n\n     product_id  quantity     store_id  \\\n10  bb35283ed13       1.0  5d0960a3c90   \n12  02e77a21a02       1.0  5641d4edd5e   \n\n                                         product_name online_retail_seller_y  \\\n10  Eternal Gandhi Super Series Crystal Paper Weig...                 Amazon   \n12  dilli bazaaar Bellies, Corporate Casuals, Casuals                 Amazon   \n\n                                             category  \n10  Sports & Outdoors | Outdoor Recreation | Skate...  \n12  Home & Kitchen | Home D??cor | Window Treatmen...  ",
      "text/html": "<div>\n<style scoped>\n    .dataframe tbody tr th:only-of-type {\n        vertical-align: middle;\n    }\n\n    .dataframe tbody tr th {\n        vertical-align: top;\n    }\n\n    .dataframe thead th {\n        text-align: right;\n    }\n</style>\n<table border=\"1\" class=\"dataframe\">\n  <thead>\n    <tr style=\"text-align: right;\">\n      <th></th>\n      <th>customer_id</th>\n      <th>first_name</th>\n      <th>last_name</th>\n      <th>gender</th>\n      <th>age</th>\n      <th>order_id</th>\n      <th>payment_order_id</th>\n      <th>quatity</th>\n      <th>online_retail_seller_x</th>\n      <th>payment_amount</th>\n      <th>product_id</th>\n      <th>quantity</th>\n      <th>store_id</th>\n      <th>product_name</th>\n      <th>online_retail_seller_y</th>\n      <th>category</th>\n    </tr>\n  </thead>\n  <tbody>\n    <tr>\n      <th>10</th>\n      <td>2c82e1212b8</td>\n      <td>Simona</td>\n      <td>Morasca</td>\n      <td>Female</td>\n      <td>49.0</td>\n      <td>2a0634bc1ea</td>\n      <td>68408108.0</td>\n      <td>1.0</td>\n      <td>Amazon</td>\n      <td>154.0</td>\n      <td>bb35283ed13</td>\n      <td>1.0</td>\n      <td>5d0960a3c90</td>\n      <td>Eternal Gandhi Super Series Crystal Paper Weig...</td>\n      <td>Amazon</td>\n      <td>Sports &amp; Outdoors | Outdoor Recreation | Skate...</td>\n    </tr>\n    <tr>\n      <th>12</th>\n      <td>2c82e1212b8</td>\n      <td>Simona</td>\n      <td>Morasca</td>\n      <td>Female</td>\n      <td>49.0</td>\n      <td>b08b904576c</td>\n      <td>68410055.0</td>\n      <td>1.0</td>\n      <td>Amazon</td>\n      <td>92.0</td>\n      <td>02e77a21a02</td>\n      <td>1.0</td>\n      <td>5641d4edd5e</td>\n      <td>dilli bazaaar Bellies, Corporate Casuals, Casuals</td>\n      <td>Amazon</td>\n      <td>Home &amp; Kitchen | Home D??cor | Window Treatmen...</td>\n    </tr>\n  </tbody>\n</table>\n</div>"
     },
     "execution_count": 200,
     "metadata": {},
     "output_type": "execute_result"
    }
   ],
   "source": [
    "df1258[df1258[\"customer_id\"]==\"2c82e1212b8\"]"
   ]
  },
  {
   "cell_type": "markdown",
   "source": [],
   "metadata": {
    "collapsed": false
   }
  },
  {
   "cell_type": "markdown",
   "source": [],
   "metadata": {
    "collapsed": false
   }
  },
  {
   "cell_type": "code",
   "execution_count": 201,
   "metadata": {
    "ExecuteTime": {
     "end_time": "2023-11-18T17:21:38.442820100Z",
     "start_time": "2023-11-18T17:21:37.979577900Z"
    }
   },
   "outputs": [],
   "source": [
    "dfcustomer_out=df1258.iloc[:,0:5].drop_duplicates()"
   ]
  },
  {
   "cell_type": "markdown",
   "source": [],
   "metadata": {
    "collapsed": false
   }
  },
  {
   "cell_type": "code",
   "execution_count": 202,
   "metadata": {
    "ExecuteTime": {
     "end_time": "2023-11-18T17:21:38.478862600Z",
     "start_time": "2023-11-18T17:21:37.990381200Z"
    }
   },
   "outputs": [
    {
     "name": "stdout",
     "output_type": "stream",
     "text": [
      "<class 'pandas.core.frame.DataFrame'>\n",
      "Index: 8986 entries, 0 to 11653\n",
      "Data columns (total 5 columns):\n",
      " #   Column       Non-Null Count  Dtype  \n",
      "---  ------       --------------  -----  \n",
      " 0   customer_id  8986 non-null   object \n",
      " 1   first_name   8986 non-null   object \n",
      " 2   last_name    8986 non-null   object \n",
      " 3   gender       8986 non-null   object \n",
      " 4   age          8986 non-null   float64\n",
      "dtypes: float64(1), object(4)\n",
      "memory usage: 421.2+ KB\n"
     ]
    }
   ],
   "source": [
    "dfcustomer_out.info()"
   ]
  },
  {
   "cell_type": "code",
   "execution_count": 203,
   "metadata": {
    "ExecuteTime": {
     "end_time": "2023-11-18T17:21:38.526966700Z",
     "start_time": "2023-11-18T17:21:37.998335400Z"
    }
   },
   "outputs": [],
   "source": [
    "dfcustomer_out.to_csv(\"Datasets/datasetout/customer_out.csv\",index=False)"
   ]
  },
  {
   "cell_type": "code",
   "execution_count": 204,
   "metadata": {
    "ExecuteTime": {
     "end_time": "2023-11-18T17:21:38.620826Z",
     "start_time": "2023-11-18T17:21:38.019796500Z"
    }
   },
   "outputs": [],
   "source": [
    "df1258.to_csv(\"Datasets/datasetout/final_out.csv\",index=False)"
   ]
  },
  {
   "cell_type": "code",
   "execution_count": 205,
   "metadata": {
    "ExecuteTime": {
     "end_time": "2023-11-18T17:21:38.633460400Z",
     "start_time": "2023-11-18T17:21:38.103966800Z"
    }
   },
   "outputs": [
    {
     "data": {
      "text/plain": "   customer_id first_name last_name  gender   age     order_id  \\\n0  72c00ba8bc7      James      Butt  Female  33.0  d792cb16214   \n1  8029b5d9ab5   Cheyenne  Atkinson  Female  39.0  40932f6a97f   \n2  b18a428ac77  Josephine   Darakjy    Male  34.0  0d7a144bdd3   \n3  0a3112dc495    Claudia    Barber    Male  47.0  734b287170b   \n4  2fdd0374a03        Art    Venere    Male  60.0  57da4fc703e   \n\n   payment_order_id  quatity online_retail_seller_x  payment_amount  \\\n0        68405119.0      1.0                 Amazon           145.0   \n1        69269003.0      1.0                 Amazon           172.0   \n2        68405123.0      1.0                  Betsy           251.0   \n3        69269366.0      1.0                  Betsy           182.0   \n4        68405206.0      1.0                  Betsy           214.0   \n\n    product_id  quantity     store_id                         product_name  \\\n0  6657ea517e5       1.0  9ec2a041202  Alisha Solid Women's Cycling Shorts   \n1  6657ea517e5       1.0  9ec2a041202  Alisha Solid Women's Cycling Shorts   \n2  dea641aaa2f       1.0  b383efe2d36  FabHomeDecor Fabric Double Sofa Bed   \n3  dea641aaa2f       1.0  b383efe2d36  FabHomeDecor Fabric Double Sofa Bed   \n4  e291975717f       1.0  8acab88f23d                           AW Bellies   \n\n  online_retail_seller_y                                           category  \n0                 Amazon  Sports & Outdoors | Outdoor Recreation | Skate...  \n1                 Amazon  Sports & Outdoors | Outdoor Recreation | Skate...  \n2                  Betsy  Toys & Games | Learning & Education | Science ...  \n3                  Betsy  Toys & Games | Learning & Education | Science ...  \n4                  Betsy          Toys & Games | Arts & Crafts | Craft Kits  ",
      "text/html": "<div>\n<style scoped>\n    .dataframe tbody tr th:only-of-type {\n        vertical-align: middle;\n    }\n\n    .dataframe tbody tr th {\n        vertical-align: top;\n    }\n\n    .dataframe thead th {\n        text-align: right;\n    }\n</style>\n<table border=\"1\" class=\"dataframe\">\n  <thead>\n    <tr style=\"text-align: right;\">\n      <th></th>\n      <th>customer_id</th>\n      <th>first_name</th>\n      <th>last_name</th>\n      <th>gender</th>\n      <th>age</th>\n      <th>order_id</th>\n      <th>payment_order_id</th>\n      <th>quatity</th>\n      <th>online_retail_seller_x</th>\n      <th>payment_amount</th>\n      <th>product_id</th>\n      <th>quantity</th>\n      <th>store_id</th>\n      <th>product_name</th>\n      <th>online_retail_seller_y</th>\n      <th>category</th>\n    </tr>\n  </thead>\n  <tbody>\n    <tr>\n      <th>0</th>\n      <td>72c00ba8bc7</td>\n      <td>James</td>\n      <td>Butt</td>\n      <td>Female</td>\n      <td>33.0</td>\n      <td>d792cb16214</td>\n      <td>68405119.0</td>\n      <td>1.0</td>\n      <td>Amazon</td>\n      <td>145.0</td>\n      <td>6657ea517e5</td>\n      <td>1.0</td>\n      <td>9ec2a041202</td>\n      <td>Alisha Solid Women's Cycling Shorts</td>\n      <td>Amazon</td>\n      <td>Sports &amp; Outdoors | Outdoor Recreation | Skate...</td>\n    </tr>\n    <tr>\n      <th>1</th>\n      <td>8029b5d9ab5</td>\n      <td>Cheyenne</td>\n      <td>Atkinson</td>\n      <td>Female</td>\n      <td>39.0</td>\n      <td>40932f6a97f</td>\n      <td>69269003.0</td>\n      <td>1.0</td>\n      <td>Amazon</td>\n      <td>172.0</td>\n      <td>6657ea517e5</td>\n      <td>1.0</td>\n      <td>9ec2a041202</td>\n      <td>Alisha Solid Women's Cycling Shorts</td>\n      <td>Amazon</td>\n      <td>Sports &amp; Outdoors | Outdoor Recreation | Skate...</td>\n    </tr>\n    <tr>\n      <th>2</th>\n      <td>b18a428ac77</td>\n      <td>Josephine</td>\n      <td>Darakjy</td>\n      <td>Male</td>\n      <td>34.0</td>\n      <td>0d7a144bdd3</td>\n      <td>68405123.0</td>\n      <td>1.0</td>\n      <td>Betsy</td>\n      <td>251.0</td>\n      <td>dea641aaa2f</td>\n      <td>1.0</td>\n      <td>b383efe2d36</td>\n      <td>FabHomeDecor Fabric Double Sofa Bed</td>\n      <td>Betsy</td>\n      <td>Toys &amp; Games | Learning &amp; Education | Science ...</td>\n    </tr>\n    <tr>\n      <th>3</th>\n      <td>0a3112dc495</td>\n      <td>Claudia</td>\n      <td>Barber</td>\n      <td>Male</td>\n      <td>47.0</td>\n      <td>734b287170b</td>\n      <td>69269366.0</td>\n      <td>1.0</td>\n      <td>Betsy</td>\n      <td>182.0</td>\n      <td>dea641aaa2f</td>\n      <td>1.0</td>\n      <td>b383efe2d36</td>\n      <td>FabHomeDecor Fabric Double Sofa Bed</td>\n      <td>Betsy</td>\n      <td>Toys &amp; Games | Learning &amp; Education | Science ...</td>\n    </tr>\n    <tr>\n      <th>4</th>\n      <td>2fdd0374a03</td>\n      <td>Art</td>\n      <td>Venere</td>\n      <td>Male</td>\n      <td>60.0</td>\n      <td>57da4fc703e</td>\n      <td>68405206.0</td>\n      <td>1.0</td>\n      <td>Betsy</td>\n      <td>214.0</td>\n      <td>e291975717f</td>\n      <td>1.0</td>\n      <td>8acab88f23d</td>\n      <td>AW Bellies</td>\n      <td>Betsy</td>\n      <td>Toys &amp; Games | Arts &amp; Crafts | Craft Kits</td>\n    </tr>\n  </tbody>\n</table>\n</div>"
     },
     "execution_count": 205,
     "metadata": {},
     "output_type": "execute_result"
    }
   ],
   "source": [
    "df1258.head()"
   ]
  },
  {
   "cell_type": "markdown",
   "source": [
    "##Analisis de datos"
   ],
   "metadata": {
    "collapsed": false
   }
  },
  {
   "cell_type": "code",
   "execution_count": 206,
   "metadata": {
    "ExecuteTime": {
     "end_time": "2023-11-18T17:21:38.651693700Z",
     "start_time": "2023-11-18T17:21:38.119089400Z"
    }
   },
   "outputs": [
    {
     "data": {
      "text/plain": "   customer_id first_name last_name gender   age     order_id  \\\n3  0a3112dc495    Claudia    Barber   Male  47.0  734b287170b   \n\n   payment_order_id  quatity online_retail_seller_x  payment_amount  \\\n3        69269366.0      1.0                  Betsy           182.0   \n\n    product_id  quantity     store_id                         product_name  \\\n3  dea641aaa2f       1.0  b383efe2d36  FabHomeDecor Fabric Double Sofa Bed   \n\n  online_retail_seller_y                                           category  \n3                  Betsy  Toys & Games | Learning & Education | Science ...  ",
      "text/html": "<div>\n<style scoped>\n    .dataframe tbody tr th:only-of-type {\n        vertical-align: middle;\n    }\n\n    .dataframe tbody tr th {\n        vertical-align: top;\n    }\n\n    .dataframe thead th {\n        text-align: right;\n    }\n</style>\n<table border=\"1\" class=\"dataframe\">\n  <thead>\n    <tr style=\"text-align: right;\">\n      <th></th>\n      <th>customer_id</th>\n      <th>first_name</th>\n      <th>last_name</th>\n      <th>gender</th>\n      <th>age</th>\n      <th>order_id</th>\n      <th>payment_order_id</th>\n      <th>quatity</th>\n      <th>online_retail_seller_x</th>\n      <th>payment_amount</th>\n      <th>product_id</th>\n      <th>quantity</th>\n      <th>store_id</th>\n      <th>product_name</th>\n      <th>online_retail_seller_y</th>\n      <th>category</th>\n    </tr>\n  </thead>\n  <tbody>\n    <tr>\n      <th>3</th>\n      <td>0a3112dc495</td>\n      <td>Claudia</td>\n      <td>Barber</td>\n      <td>Male</td>\n      <td>47.0</td>\n      <td>734b287170b</td>\n      <td>69269366.0</td>\n      <td>1.0</td>\n      <td>Betsy</td>\n      <td>182.0</td>\n      <td>dea641aaa2f</td>\n      <td>1.0</td>\n      <td>b383efe2d36</td>\n      <td>FabHomeDecor Fabric Double Sofa Bed</td>\n      <td>Betsy</td>\n      <td>Toys &amp; Games | Learning &amp; Education | Science ...</td>\n    </tr>\n  </tbody>\n</table>\n</div>"
     },
     "execution_count": 206,
     "metadata": {},
     "output_type": "execute_result"
    }
   ],
   "source": [
    "df1258[df1258[\"customer_id\"]==\"0a3112dc495\"]"
   ]
  },
  {
   "cell_type": "code",
   "execution_count": 207,
   "metadata": {
    "ExecuteTime": {
     "end_time": "2023-11-18T17:21:38.651693700Z",
     "start_time": "2023-11-18T17:21:38.138565800Z"
    }
   },
   "outputs": [],
   "source": [
    "d=df1258[df1258[\"customer_id\"]==\"0a3112dc495\"].iloc[:,15]"
   ]
  },
  {
   "cell_type": "markdown",
   "source": [
    "##Categoria mas comprada por el cliente"
   ],
   "metadata": {
    "collapsed": false
   }
  },
  {
   "cell_type": "code",
   "execution_count": 208,
   "metadata": {
    "ExecuteTime": {
     "end_time": "2023-11-18T17:21:38.651693700Z",
     "start_time": "2023-11-18T17:21:38.145627100Z"
    }
   },
   "outputs": [
    {
     "name": "stdout",
     "output_type": "stream",
     "text": [
      "3    Toys & Games | Learning & Education | Science ...\n",
      "Name: category, dtype: object\n"
     ]
    }
   ],
   "source": [
    "print(d)"
   ]
  },
  {
   "cell_type": "code",
   "execution_count": 209,
   "outputs": [],
   "source": [
    "a=df1258[df1258[\"customer_id\"]==\"0a3112dc495\"].iloc[:,15]\n",
    "b=df1258[df1258[\"category\"]==a.iloc[0]]\n",
    "b=b[\"product_name\"].drop_duplicates()"
   ],
   "metadata": {
    "collapsed": false,
    "ExecuteTime": {
     "end_time": "2023-11-18T17:21:38.656806900Z",
     "start_time": "2023-11-18T17:21:38.151431200Z"
    }
   }
  },
  {
   "cell_type": "markdown",
   "source": [
    "##Productos más comprados por el cliente"
   ],
   "metadata": {
    "collapsed": false
   }
  },
  {
   "cell_type": "code",
   "execution_count": 210,
   "outputs": [
    {
     "name": "stdout",
     "output_type": "stream",
     "text": [
      "2                    FabHomeDecor Fabric Double Sofa Bed\n",
      "528                                   Kielz Ladies Boots\n",
      "642                                         Credos Boots\n",
      "650    Kms Ironman_Look_Led_Black11 Digital Watch  - ...\n",
      "882              20Dresses Brown Shiver Me Timbers Boots\n",
      "Name: product_name, dtype: object\n"
     ]
    }
   ],
   "source": [
    "print(b[0:5])"
   ],
   "metadata": {
    "collapsed": false,
    "ExecuteTime": {
     "end_time": "2023-11-18T17:21:38.656806900Z",
     "start_time": "2023-11-18T17:21:38.163998900Z"
    }
   }
  },
  {
   "cell_type": "markdown",
   "source": [],
   "metadata": {
    "collapsed": false
   }
  }
 ],
 "metadata": {
  "kernelspec": {
   "display_name": "Python 3",
   "language": "python",
   "name": "python3"
  },
  "language_info": {
   "codemirror_mode": {
    "name": "ipython",
    "version": 3
   },
   "file_extension": ".py",
   "mimetype": "text/x-python",
   "name": "python",
   "nbconvert_exporter": "python",
   "pygments_lexer": "ipython3",
   "version": "3.11.4"
  }
 },
 "nbformat": 4,
 "nbformat_minor": 2
}
